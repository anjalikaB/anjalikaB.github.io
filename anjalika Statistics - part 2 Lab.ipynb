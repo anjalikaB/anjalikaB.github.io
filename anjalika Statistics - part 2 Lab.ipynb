{
 "cells": [
  {
   "cell_type": "markdown",
   "metadata": {
    "colab_type": "text",
    "id": "4M2unyfTx9B1"
   },
   "source": [
    "![dsia](https://static1.squarespace.com/static/5c4631190dbda3abea29db4c/t/5c465b0dc74c5024875652f7/1549343891985/?format=1500w)"
   ]
  },
  {
   "cell_type": "markdown",
   "metadata": {
    "colab_type": "text",
    "id": "RqiJTWNJmxTh"
   },
   "source": [
    "# Statistics - part 2"
   ]
  },
  {
   "cell_type": "code",
   "execution_count": 4,
   "metadata": {
    "colab": {},
    "colab_type": "code",
    "id": "LMexHJ6rmxTh"
   },
   "outputs": [],
   "source": [
    "import numpy as np\n",
    "import matplotlib.pyplot as plt\n",
    "from scipy import stats\n",
    "# get matplot to show charts inline\n",
    "%matplotlib inline"
   ]
  },
  {
   "cell_type": "markdown",
   "metadata": {
    "colab_type": "text",
    "id": "77Yt7aCRpUKY"
   },
   "source": [
    "# 1. plot a histogram of a set of observations\n",
    "\n",
    "experiment with various number of bins"
   ]
  },
  {
   "cell_type": "code",
   "execution_count": 6,
   "metadata": {
    "colab": {
     "base_uri": "https://localhost:8080/",
     "height": 316
    },
    "colab_type": "code",
    "executionInfo": {
     "elapsed": 1393,
     "status": "ok",
     "timestamp": 1553497378926,
     "user": {
      "displayName": "Sanjee Than",
      "photoUrl": "https://lh6.googleusercontent.com/-ULNc2nuZVZI/AAAAAAAAAAI/AAAAAAAADZM/CunNSa9JHMU/s64/photo.jpg",
      "userId": "10057846091089378410"
     },
     "user_tz": -660
    },
    "id": "7PY2pBe8mxTk",
    "outputId": "55a241a0-06ac-403c-beca-1fec6ba3e844"
   },
   "outputs": [
    {
     "data": {
      "text/plain": [
       "<function matplotlib.pyplot.show(*args, **kw)>"
      ]
     },
     "execution_count": 6,
     "metadata": {},
     "output_type": "execute_result"
    },
    {
     "data": {
      "image/png": "[encoded data removed]",
      "text/plain": [
       "<Figure size 432x288 with 1 Axes>"
      ]
     },
     "metadata": {
      "needs_background": "light"
     },
     "output_type": "display_data"
    }
   ],
   "source": [
    "# plot a histogram of a set of observations\n",
    "# experiment with various number of bins\n",
    "x = [21,22,23,4,5,6,77,8,9,10,31,32,33,34,35,36,37,18,49,50,100]\n",
    "num_bins =6\n",
    "plt.hist(x,bins=num_bins)\n",
    "plt.show"
   ]
  },
  {
   "cell_type": "markdown",
   "metadata": {
    "colab_type": "text",
    "id": "cRSBy51CpgbC"
   },
   "source": [
    "# 2. Calculate statistical information of a set of observations using numpy and stats\n",
    "```\n",
    "# Expected Output:\n",
    "mean of observations = 28.884615384615383\n",
    "median of observations = 27.0\n",
    "mode of observations = ModeResult(mode=array([10]), count=array([4]))\n",
    "percentile of observations = [10.   27.   35.75]\n",
    "statistical summary of observations = DescribeResult(nobs=26, minmax=(4, 100), mean=28.884615384615383, variance=523.3061538461537, skewness=1.4001632366778733, kurtosis=2.0634808152807826)\n",
    "```"
   ]
  },
  {
   "cell_type": "code",
   "execution_count": 0,
   "metadata": {
    "colab": {
     "base_uri": "https://localhost:8080/",
     "height": 139
    },
    "colab_type": "code",
    "executionInfo": {
     "elapsed": 1383,
     "status": "ok",
     "timestamp": 1553497378929,
     "user": {
      "displayName": "Sanjee Than",
      "photoUrl": "https://lh6.googleusercontent.com/-ULNc2nuZVZI/AAAAAAAAAAI/AAAAAAAADZM/CunNSa9JHMU/s64/photo.jpg",
      "userId": "10057846091089378410"
     },
     "user_tz": -660
    },
    "id": "odB27dRAmxTn",
    "outputId": "3f00bfd4-42f2-463e-c283-bc8ce67c00d2"
   },
   "outputs": [
    {
     "name": "stdout",
     "output_type": "stream",
     "text": [
      "mean of observations =  28.884615384615383\n",
      "median of observations =  27.0\n",
      "mode of observations =  ModeResult(mode=array([10]), count=array([4]))\n",
      "mode of observations =  ModeResult(mode=array([10]), count=array([4]))\n",
      "percentile of observations =  [10.   27.   35.75]\n",
      "statistical summary of observations =  DescribeResult(nobs=26, minmax=(4, 100), mean=28.884615384615383, variance=523.3061538461537, skewness=1.4001632366778733, kurtosis=2.0634808152807826)\n"
     ]
    }
   ],
   "source": [
    "# calculate statistical information of a set of observations using numpy and stats\n",
    "observations = [21,22,23,4,5,6,77,8,9,10,31,32,33,34,35,36,37,18,49,50,100,10,32,49,10,10]\n",
    "print('mean of observations = ', np.mean(observations))\n",
    "print('median of observations = ', np.median(observations))\n",
    "print('mode of observations = ', stats.mode(observations))\n",
    "print('percentile of observations = ', np.percentile(observations,(25,50,75)))\n",
    "out=stats.describe(observations)\n",
    "print('statistical summary of observations = ', out)"
   ]
  },
  {
   "cell_type": "markdown",
   "metadata": {
    "colab_type": "text",
    "id": "AGpwG3Mup0iD"
   },
   "source": [
    "# 3. Plot box chart of obstravations"
   ]
  },
  {
   "cell_type": "code",
   "execution_count": 0,
   "metadata": {
    "colab": {
     "base_uri": "https://localhost:8080/",
     "height": 265
    },
    "colab_type": "code",
    "executionInfo": {
     "elapsed": 1373,
     "status": "ok",
     "timestamp": 1553497378930,
     "user": {
      "displayName": "Sanjee Than",
      "photoUrl": "https://lh6.googleusercontent.com/-ULNc2nuZVZI/AAAAAAAAAAI/AAAAAAAADZM/CunNSa9JHMU/s64/photo.jpg",
      "userId": "10057846091089378410"
     },
     "user_tz": -660
    },
    "id": "JMIEInnMmxTq",
    "outputId": "bc3e351e-dff8-49d8-b773-0a0c0ee050fb"
   },
   "outputs": [
    {
     "data": {
      "image/png": "[encoded data removed]",
      "text/plain": [
       "<Figure size 432x288 with 1 Axes>"
      ]
     },
     "metadata": {
      "tags": []
     },
     "output_type": "display_data"
    }
   ],
   "source": [
    "# plot box chart of obstravations\n",
    "observations = [21,22,23,4,5,6,77,8,9,10,31,32,33,34,35,36,37,18,49,50,100,10,32,49,10,10]\n",
    "plt.boxplot(observations)\n",
    "plt.yscale('linear')\n",
    "plt.grid(b=True, which='major', color='b', linestyle='-')\n",
    "plt.grid(b=True, which='minor', color='r', linestyle='--')\n",
    "plt.show()"
   ]
  },
  {
   "cell_type": "markdown",
   "metadata": {
    "colab_type": "text",
    "id": "LcviDI1CqBtM"
   },
   "source": [
    "# 4. Create a Binomial Distribution\n",
    "\n",
    "Lookup stats.binom.pmf\n",
    "\n",
    "What does it do?"
   ]
  },
  {
   "cell_type": "code",
   "execution_count": 0,
   "metadata": {
    "colab": {
     "base_uri": "https://localhost:8080/",
     "height": 415
    },
    "colab_type": "code",
    "executionInfo": {
     "elapsed": 1923,
     "status": "ok",
     "timestamp": 1553497379497,
     "user": {
      "displayName": "Sanjee Than",
      "photoUrl": "https://lh6.googleusercontent.com/-ULNc2nuZVZI/AAAAAAAAAAI/AAAAAAAADZM/CunNSa9JHMU/s64/photo.jpg",
      "userId": "10057846091089378410"
     },
     "user_tz": -660
    },
    "id": "_vJoZMf2mxTs",
    "outputId": "87d5f78f-efe7-4183-cb36-4b09ac27c35b"
   },
   "outputs": [
    {
     "name": "stdout",
     "output_type": "stream",
     "text": [
      "Bionmial distribution data:\n",
      " [2.82475249e-02 1.21060821e-01 2.33474440e-01 2.66827932e-01\n",
      " 2.00120949e-01 1.02919345e-01 3.67569090e-02 9.00169200e-03\n",
      " 1.44670050e-03 1.37781000e-04 5.90490000e-06 0.00000000e+00\n",
      " 0.00000000e+00 0.00000000e+00 0.00000000e+00 0.00000000e+00\n",
      " 0.00000000e+00 0.00000000e+00 0.00000000e+00 0.00000000e+00\n",
      " 0.00000000e+00]\n"
     ]
    },
    {
     "data": {
      "image/png": "[encoded data removed]",
      "text/plain": [
       "<Figure size 432x288 with 1 Axes>"
      ]
     },
     "metadata": {
      "tags": []
     },
     "output_type": "display_data"
    }
   ],
   "source": [
    "# creating a Binomial Distribution\n",
    "n = 10\n",
    "p =0.3\n",
    "k = np.arange(0,21)\n",
    "binomial = stats.binom.pmf(k,n,p)\n",
    "print('Bionmial distribution data:\\n',binomial)\n",
    "plt.plot(k,binomial,'o-')\n",
    "plt.title('Binomial distribution: n=%i p=%.2f' %(n,p),fontsize=15)\n",
    "plt.xlabel('Range')\n",
    "plt.ylabel('Probability')\n",
    "plt.grid()\n",
    "plt.show()"
   ]
  },
  {
   "cell_type": "markdown",
   "metadata": {
    "colab_type": "text",
    "id": "HlhkB_IcqU4U"
   },
   "source": [
    "# 5. Create a scatter plot"
   ]
  },
  {
   "cell_type": "code",
   "execution_count": 4,
   "metadata": {
    "colab": {
     "base_uri": "https://localhost:8080/",
     "height": 282
    },
    "colab_type": "code",
    "executionInfo": {
     "elapsed": 2708,
     "status": "ok",
     "timestamp": 1553497380296,
     "user": {
      "displayName": "Sanjee Than",
      "photoUrl": "https://lh6.googleusercontent.com/-ULNc2nuZVZI/AAAAAAAAAAI/AAAAAAAADZM/CunNSa9JHMU/s64/photo.jpg",
      "userId": "10057846091089378410"
     },
     "user_tz": -660
    },
    "id": "-qx81cWXmxTu",
    "outputId": "2a3fe8d9-de93-47e7-a6fd-8fda41b98f6b"
   },
   "outputs": [
    {
     "data": {
      "text/plain": [
       "<matplotlib.collections.PathCollection at 0x461286c2e8>"
      ]
     },
     "execution_count": 4,
     "metadata": {},
     "output_type": "execute_result"
    },
    {
     "data": {
      "image/png": "[encoded data removed]",
      "text/plain": [
       "<Figure size 432x288 with 1 Axes>"
      ]
     },
     "metadata": {
      "needs_background": "light"
     },
     "output_type": "display_data"
    }
   ],
   "source": [
    "import numpy as np\n",
    "import matplotlib.pyplot as plt\n",
    "\n",
    "# Fixing random state for reproducibility\n",
    "np.random.seed(19680801)\n",
    "\n",
    "\n",
    "N = 50\n",
    "x = np.random.rand(N)\n",
    "y = np.random.rand(N)\n",
    "colors = np.random.rand(N)\n",
    "area = (30 * np.random.rand(N))**2  # 0 to 15 point radii\n",
    "plt.scatter(x,y,s = area, c=colors,alpha = 0.5)"
   ]
  },
  {
   "cell_type": "markdown",
   "metadata": {
    "colab_type": "text",
    "id": "_KQAJyqIqheV"
   },
   "source": [
    "# 6. Calculate and Visualize Correlations\n",
    "\n",
    "NOTE: Lookup np.corrcoef. What does it do?"
   ]
  },
  {
   "cell_type": "code",
   "execution_count": 10,
   "metadata": {
    "colab": {
     "base_uri": "https://localhost:8080/",
     "height": 316
    },
    "colab_type": "code",
    "executionInfo": {
     "elapsed": 2697,
     "status": "ok",
     "timestamp": 1553497380297,
     "user": {
      "displayName": "Sanjee Than",
      "photoUrl": "https://lh6.googleusercontent.com/-ULNc2nuZVZI/AAAAAAAAAAI/AAAAAAAADZM/CunNSa9JHMU/s64/photo.jpg",
      "userId": "10057846091089378410"
     },
     "user_tz": -660
    },
    "id": "5K4lfLpTmxTw",
    "outputId": "7f03cbd2-10cf-492d-e429-c83dfb70f077"
   },
   "outputs": [
    {
     "name": "stdout",
     "output_type": "stream",
     "text": [
      "Correlation of x and y =  [[1.         0.81543901]\n",
      " [0.81543901 1.        ]]\n"
     ]
    },
    {
     "data": {
      "image/png": "[encoded data removed]",
      "text/plain": [
       "<Figure size 432x288 with 1 Axes>"
      ]
     },
     "metadata": {},
     "output_type": "display_data"
    }
   ],
   "source": [
    "# Calculate and visualise correltions\n",
    "import matplotlib\n",
    "np.random.seed(1)\n",
    "\n",
    "# 1000 random integers between 0 and 50\n",
    "x = np.random.randint(0, 50, 1000)\n",
    "\n",
    "# Positive Correlation with some noise\n",
    "y = x + np.random.normal(0, 10, 1000)\n",
    "\n",
    "print('Correlation of x and y = ',np.corrcoef(x, y))\n",
    "matplotlib.style.use('ggplot')\n",
    "\n",
    "plt.scatter(x, y)\n",
    "\n",
    "plt.show()\n",
    "\n",
    "\n"
   ]
  },
  {
   "cell_type": "code",
   "execution_count": 0,
   "metadata": {
    "colab": {
     "base_uri": "https://localhost:8080/",
     "height": 34
    },
    "colab_type": "code",
    "executionInfo": {
     "elapsed": 2688,
     "status": "ok",
     "timestamp": 1553497380298,
     "user": {
      "displayName": "Sanjee Than",
      "photoUrl": "https://lh6.googleusercontent.com/-ULNc2nuZVZI/AAAAAAAAAAI/AAAAAAAADZM/CunNSa9JHMU/s64/photo.jpg",
      "userId": "10057846091089378410"
     },
     "user_tz": -660
    },
    "id": "5EPfgBdDmxTz",
    "outputId": "5199e456-0748-435f-d0c0-335923c94700"
   },
   "outputs": [
    {
     "name": "stdout",
     "output_type": "stream",
     "text": [
      "[ 0.11163049 29.5832885 ]\n"
     ]
    }
   ],
   "source": [
    "# Calculate the coefficient of best fit line or curve\n",
    "x = [21,22,23,4,5,6,77,8,9,10,31,32,33,34,35,36,37,18,49,50,100,10,32,49,10,10]\n",
    "y = [88,12,23,3,6,8,9,12,27,36,34,77,60,35,36,37,18,49,50,100,10,32,49,10,10,22]\n",
    "\n",
    "print(np.polyfit(x,y,1))"
   ]
  },
  {
   "cell_type": "markdown",
   "metadata": {
    "colab_type": "text",
    "id": "c6f0e9yXra37"
   },
   "source": [
    "# 7. [BONUS] Plot X, Y and Best Fit Line\n",
    "\n",
    "**Write a function to calculate best fit.**\n",
    "\n",
    "![alt text](https://i.imgur.com/B43vOV0.jpg)[1]\n",
    "\n",
    "[1]: https://www.mathsisfun.com/data/least-squares-regression.html \"Least Squares Regression\""
   ]
  },
  {
   "cell_type": "code",
   "execution_count": 0,
   "metadata": {
    "colab": {
     "base_uri": "https://localhost:8080/",
     "height": 130
    },
    "colab_type": "code",
    "executionInfo": {
     "elapsed": 2698,
     "status": "error",
     "timestamp": 1553497380309,
     "user": {
      "displayName": "Sanjee Than",
      "photoUrl": "https://lh6.googleusercontent.com/-ULNc2nuZVZI/AAAAAAAAAAI/AAAAAAAADZM/CunNSa9JHMU/s64/photo.jpg",
      "userId": "10057846091089378410"
     },
     "user_tz": -660
    },
    "id": "-jouTQjemxT1",
    "outputId": "84915fb4-8f32-45d8-bc5f-7b513bb34f7a"
   },
   "outputs": [
    {
     "ename": "SyntaxError",
     "evalue": "ignored",
     "output_type": "error",
     "traceback": [
      "\u001b[0;36m  File \u001b[0;32m\"<ipython-input-10-887b5348b754>\"\u001b[0;36m, line \u001b[0;32m18\u001b[0m\n\u001b[0;31m    y = 0.80 + 0.92x\u001b[0m\n\u001b[0m                   ^\u001b[0m\n\u001b[0;31mSyntaxError\u001b[0m\u001b[0;31m:\u001b[0m invalid syntax\n"
     ]
    }
   ],
   "source": [
    "# sample points \n",
    "X = [0, 5, 10, 15, 20]\n",
    "Y = [0, 7, 10, 13, 20]\n",
    "\n",
    "# solve for a and b\n",
    "def best_fit(X, Y):\n",
    "    '''\n",
    "    Return m, b\n",
    "    '''\n",
    "    \n",
    "    m = 1\n",
    "    b = 1\n",
    "    \n",
    "    return m, b\n",
    "\n",
    "# solution\n",
    "m, b = best_fit(X, Y)\n",
    "#best fit line:\n",
    "y = 0.80 + 0.92x\n",
    "\n",
    "# plot points and fit line"
   ]
  },
  {
   "cell_type": "markdown",
   "metadata": {
    "colab_type": "text",
    "id": "HfL9jnC4txJH"
   },
   "source": [
    "# 8. plot a histogram of a set of observations - centered\n",
    "\n",
    "Experiment with various number of bins\n",
    "\n",
    "        y = x - np.mean(x)"
   ]
  },
  {
   "cell_type": "code",
   "execution_count": 12,
   "metadata": {
    "colab": {
     "base_uri": "https://localhost:8080/",
     "height": 418
    },
    "colab_type": "code",
    "executionInfo": {
     "elapsed": 825,
     "status": "ok",
     "timestamp": 1553497874622,
     "user": {
      "displayName": "Sanjee Than",
      "photoUrl": "https://lh6.googleusercontent.com/-ULNc2nuZVZI/AAAAAAAAAAI/AAAAAAAADZM/CunNSa9JHMU/s64/photo.jpg",
      "userId": "10057846091089378410"
     },
     "user_tz": -660
    },
    "id": "bw-YGxBEmxT5",
    "outputId": "993603f0-f473-4df6-8c9d-eacdfd5dcc94"
   },
   "outputs": [
    {
     "name": "stdout",
     "output_type": "stream",
     "text": [
      "[ -9.47619048  -8.47619048  -7.47619048 -26.47619048 -25.47619048\n",
      " -24.47619048  46.52380952 -22.47619048 -21.47619048 -20.47619048\n",
      "   0.52380952   1.52380952   2.52380952   3.52380952   4.52380952\n",
      "   5.52380952   6.52380952 -12.47619048  18.52380952  19.52380952\n",
      "  69.52380952]\n"
     ]
    },
    {
     "data": {
      "text/plain": [
       "(array([10.,  7.,  2.,  1.,  1.]),\n",
       " array([-26.47619048,  -7.27619048,  11.92380952,  31.12380952,\n",
       "         50.32380952,  69.52380952]),\n",
       " <a list of 5 Patch objects>)"
      ]
     },
     "execution_count": 12,
     "metadata": {
      "tags": []
     },
     "output_type": "execute_result"
    },
    {
     "data": {
      "image/png": "[encoded data removed]",
      "text/plain": [
       "<Figure size 432x288 with 1 Axes>"
      ]
     },
     "metadata": {
      "tags": []
     },
     "output_type": "display_data"
    }
   ],
   "source": [
    "# plot a histogram of a set of observations - centered\n",
    "# experiment with various number of bins\n",
    "x = [21,22,23,4,5,6,77,8,9,10,31,32,33,34,35,36,37,18,49,50,100]\n",
    "y = x - np.mean(x)\n",
    "print(y)\n",
    "num_bins = 5\n",
    "plt.hist(y,bins=num_bins)"
   ]
  },
  {
   "cell_type": "markdown",
   "metadata": {
    "colab_type": "text",
    "id": "IvLbO4hot_oK"
   },
   "source": [
    "# 9. plot a histogram of a set of observations - scaled\n",
    "\n",
    "        y = x / np.std(x)"
   ]
  },
  {
   "cell_type": "code",
   "execution_count": 13,
   "metadata": {
    "colab": {
     "base_uri": "https://localhost:8080/",
     "height": 401
    },
    "colab_type": "code",
    "executionInfo": {
     "elapsed": 911,
     "status": "ok",
     "timestamp": 1553497880565,
     "user": {
      "displayName": "Sanjee Than",
      "photoUrl": "https://lh6.googleusercontent.com/-ULNc2nuZVZI/AAAAAAAAAAI/AAAAAAAADZM/CunNSa9JHMU/s64/photo.jpg",
      "userId": "10057846091089378410"
     },
     "user_tz": -660
    },
    "id": "rKkxbfpGmxT7",
    "outputId": "9c3aeb9f-c0b4-48fa-cbab-6a245b5b5cdc"
   },
   "outputs": [
    {
     "name": "stdout",
     "output_type": "stream",
     "text": [
      "[0.89562766 0.93827659 0.98092553 0.17059574 0.21324468 0.25589362\n",
      " 3.28396807 0.34119149 0.38384042 0.42648936 1.32211701 1.36476595\n",
      " 1.40741489 1.45006382 1.49271276 1.53536169 1.57801063 0.76768085\n",
      " 2.08979786 2.1324468  4.2648936 ]\n"
     ]
    },
    {
     "data": {
      "text/plain": [
       "(array([10.,  7.,  2.,  1.,  1.]),\n",
       " array([0.17059574, 0.98945531, 1.80831488, 2.62717446, 3.44603403,\n",
       "        4.2648936 ]),\n",
       " <a list of 5 Patch objects>)"
      ]
     },
     "execution_count": 13,
     "metadata": {
      "tags": []
     },
     "output_type": "execute_result"
    },
    {
     "data": {
      "image/png": "[encoded data removed]",
      "text/plain": [
       "<Figure size 432x288 with 1 Axes>"
      ]
     },
     "metadata": {
      "tags": []
     },
     "output_type": "display_data"
    }
   ],
   "source": [
    "# plot a histogram of a set of observations - scaled\n",
    "# experiment with various number of bins\n",
    "x = [21,22,23,4,5,6,77,8,9,10,31,32,33,34,35,36,37,18,49,50,100]\n",
    "y = x / np.std(x)\n",
    "print(y)\n",
    "num_bins = 5\n",
    "plt.hist(y,bins=num_bins)"
   ]
  },
  {
   "cell_type": "markdown",
   "metadata": {
    "colab_type": "text",
    "id": "WhM8Zio5uQ65"
   },
   "source": [
    "# 10. [BONUS] Create a probplot against normal distribution\n",
    "\n",
    "Check following methods:\n",
    "\n",
    "1. stats.loggamma.rvs\n",
    "2. stats.probplot\n",
    "3. stats.norm\n",
    "4. stats.boxcox"
   ]
  },
  {
   "cell_type": "code",
   "execution_count": 8,
   "metadata": {
    "colab": {
     "base_uri": "https://localhost:8080/",
     "height": 3993
    },
    "colab_type": "code",
    "executionInfo": {
     "elapsed": 1217,
     "status": "ok",
     "timestamp": 1553497983671,
     "user": {
      "displayName": "Sanjee Than",
      "photoUrl": "https://lh6.googleusercontent.com/-ULNc2nuZVZI/AAAAAAAAAAI/AAAAAAAADZM/CunNSa9JHMU/s64/photo.jpg",
      "userId": "10057846091089378410"
     },
     "user_tz": -660
    },
    "id": "2X4WJFBxmxT_",
    "outputId": "fc44cb03-ff5c-41f4-c46e-e61f434582e0"
   },
   "outputs": [
    {
     "data": {
      "image/png": "[encoded data removed]",
      "text/plain": [
       "<Figure size 432x288 with 1 Axes>"
      ]
     },
     "metadata": {
      "needs_background": "light"
     },
     "output_type": "display_data"
    }
   ],
   "source": [
    "from scipy import stats\n",
    "import matplotlib.pyplot as plt\n",
    "fig = plt.figure()\n",
    "ax1 = fig.add_subplot(211)\n",
    "x = stats.loggamma.rvs(5, size=500) + 5\n",
    "stats.probplot(x)\n",
    "plt.show()"
   ]
  },
  {
   "cell_type": "markdown",
   "metadata": {
    "colab_type": "text",
    "id": "2X66iINLvAun"
   },
   "source": [
    "# 11. [BONUS] Calculate Mean Confidence Interval\n",
    "\n",
    "Check following methods:\n",
    "\n",
    "1. scipy.stats.sem\n",
    "2. scipy.stats.t.ppf"
   ]
  },
  {
   "cell_type": "code",
   "execution_count": 21,
   "metadata": {
    "colab": {
     "base_uri": "https://localhost:8080/",
     "height": 34
    },
    "colab_type": "code",
    "executionInfo": {
     "elapsed": 1145,
     "status": "ok",
     "timestamp": 1553498002305,
     "user": {
      "displayName": "Sanjee Than",
      "photoUrl": "https://lh6.googleusercontent.com/-ULNc2nuZVZI/AAAAAAAAAAI/AAAAAAAADZM/CunNSa9JHMU/s64/photo.jpg",
      "userId": "10057846091089378410"
     },
     "user_tz": -660
    },
    "id": "RbRSVOnlmxUC",
    "outputId": "098a44e9-96d1-4d8d-df47-b86477c466b2"
   },
   "outputs": [
    {
     "name": "stdout",
     "output_type": "stream",
     "text": [
      "(0, 0, 0)\n"
     ]
    }
   ],
   "source": [
    "import numpy as np\n",
    "import scipy.stats\n",
    "\n",
    "\n",
    "def mean_confidence_interval(data, confidence=0.95):\n",
    "    # Calculate m, h\n",
    "    m, se = 0, 0\n",
    "    h = 0\n",
    "    return m, m-h, m+h\n",
    "\n",
    "data = [21,22,23,4,5,6,77,8,9,10,31,32,33,34,35,36,37,18,49,50,100]\n",
    "print(mean_confidence_interval(data))"
   ]
  },
  {
   "cell_type": "code",
   "execution_count": 0,
   "metadata": {
    "colab": {},
    "colab_type": "code",
    "id": "uO9dew2Kf3V5"
   },
   "outputs": [],
   "source": []
  }
 ],
 "metadata": {
  "colab": {
   "collapsed_sections": [],
   "name": "Copy of Statistics - part 2 Lab.ipynb",
   "provenance": [
    {
     "file_id": "1xuBbv-SE-dokCdWnFHHYcmiQ6nmpwr5a",
     "timestamp": 1552707432080
    },
    {
     "file_id": "https://github.com/ikfaisal/dsia/blob/master/Statistics_part_2.ipynb",
     "timestamp": 1552461263669
    }
   ],
   "version": "0.3.2"
  },
  "kernelspec": {
   "display_name": "Python 3",
   "language": "python",
   "name": "python3"
  },
  "language_info": {
   "codemirror_mode": {
    "name": "ipython",
    "version": 3
   },
   "file_extension": ".py",
   "mimetype": "text/x-python",
   "name": "python",
   "nbconvert_exporter": "python",
   "pygments_lexer": "ipython3",
   "version": "3.7.3"
  }
 },
 "nbformat": 4,
 "nbformat_minor": 1
}
