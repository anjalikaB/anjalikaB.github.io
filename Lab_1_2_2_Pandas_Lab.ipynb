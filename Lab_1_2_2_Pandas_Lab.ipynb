{
  "nbformat": 4,
  "nbformat_minor": 0,
  "metadata": {
    "colab": {
      "name": "Lab 1.2.2 Pandas Lab.ipynb",
      "version": "0.3.2",
      "provenance": [],
      "collapsed_sections": [],
      "include_colab_link": true
    },
    "kernelspec": {
      "display_name": "Python 3",
      "language": "python",
      "name": "python3"
    }
  },
  "cells": [
    {
      "cell_type": "markdown",
      "metadata": {
        "id": "view-in-github",
        "colab_type": "text"
      },
      "source": [
        "<a href=\"https://colab.research.google.com/github/anjalikaB/anjalikaB.github.io/blob/master/Lab_1_2_2_Pandas_Lab.ipynb\" target=\"_parent\"><img src=\"https://colab.research.google.com/assets/colab-badge.svg\" alt=\"Open In Colab\"/></a>"
      ]
    },
    {
      "cell_type": "markdown",
      "metadata": {
        "id": "ZvGuEYgDsohG",
        "colab_type": "text"
      },
      "source": [
        "![dsia](https://static1.squarespace.com/static/5c4631190dbda3abea29db4c/t/5c465b0dc74c5024875652f7/1549343891985/?format=1500w)"
      ]
    },
    {
      "cell_type": "code",
      "metadata": {
        "id": "k1hOvGzedsoO",
        "colab_type": "code",
        "colab": {}
      },
      "source": [
        "import numpy as np\n",
        "import pandas as pd\n",
        "import matplotlib.pyplot as plt\n",
        "from scipy import stats\n",
        "# get matplot to show charts inline\n",
        "%matplotlib inline"
      ],
      "execution_count": 0,
      "outputs": []
    },
    {
      "cell_type": "markdown",
      "metadata": {
        "id": "gtcjVkmjDMaI",
        "colab_type": "text"
      },
      "source": [
        ""
      ]
    },
    {
      "cell_type": "markdown",
      "metadata": {
        "id": "idwTm8QinAE9",
        "colab_type": "text"
      },
      "source": [
        "chrome://settings/content/cookies\n",
        "\n",
        "NOTE: Make sure third party cookies are not blocked."
      ]
    },
    {
      "cell_type": "code",
      "metadata": {
        "id": "cPmJnMzgdsoR",
        "colab_type": "code",
        "colab": {}
      },
      "source": [
        "from google.colab import files\n",
        "uploaded = files.upload()\n",
        "import io\n",
        "df = pd.read_csv(io.BytesIO(uploaded[\"Employee-attrition.csv\"]))\n"
      ],
      "execution_count": 0,
      "outputs": []
    },
    {
      "cell_type": "code",
      "metadata": {
        "id": "0g0YHDJ1dsoT",
        "colab_type": "code",
        "outputId": "ec913ace-2556-4b4e-ffb0-e7fbf6a88f9f",
        "colab": {
          "base_uri": "https://localhost:8080/",
          "height": 163
        }
      },
      "source": [
        "df.head()"
      ],
      "execution_count": 1,
      "outputs": [
        {
          "output_type": "error",
          "ename": "NameError",
          "evalue": "ignored",
          "traceback": [
            "\u001b[0;31m---------------------------------------------------------------------------\u001b[0m",
            "\u001b[0;31mNameError\u001b[0m                                 Traceback (most recent call last)",
            "\u001b[0;32m<ipython-input-1-c42a15b2c7cf>\u001b[0m in \u001b[0;36m<module>\u001b[0;34m()\u001b[0m\n\u001b[0;32m----> 1\u001b[0;31m \u001b[0mdf\u001b[0m\u001b[0;34m.\u001b[0m\u001b[0mhead\u001b[0m\u001b[0;34m(\u001b[0m\u001b[0;34m)\u001b[0m\u001b[0;34m\u001b[0m\u001b[0;34m\u001b[0m\u001b[0m\n\u001b[0m",
            "\u001b[0;31mNameError\u001b[0m: name 'df' is not defined"
          ]
        }
      ]
    },
    {
      "cell_type": "code",
      "metadata": {
        "id": "NGFbwlODdsoX",
        "colab_type": "code",
        "outputId": "d231d474-93bf-4624-86d4-dc15c58921fd",
        "colab": {
          "base_uri": "https://localhost:8080/",
          "height": 267
        }
      },
      "source": [
        "df.tail()"
      ],
      "execution_count": 0,
      "outputs": [
        {
          "output_type": "execute_result",
          "data": {
            "text/html": [
              "<div>\n",
              "<style scoped>\n",
              "    .dataframe tbody tr th:only-of-type {\n",
              "        vertical-align: middle;\n",
              "    }\n",
              "\n",
              "    .dataframe tbody tr th {\n",
              "        vertical-align: top;\n",
              "    }\n",
              "\n",
              "    .dataframe thead th {\n",
              "        text-align: right;\n",
              "    }\n",
              "</style>\n",
              "<table border=\"1\" class=\"dataframe\">\n",
              "  <thead>\n",
              "    <tr style=\"text-align: right;\">\n",
              "      <th></th>\n",
              "      <th>EmployeeID</th>\n",
              "      <th>recorddate_key</th>\n",
              "      <th>birthdate_key</th>\n",
              "      <th>orighiredate_key</th>\n",
              "      <th>terminationdate_key</th>\n",
              "      <th>age</th>\n",
              "      <th>length_of_service</th>\n",
              "      <th>city_name</th>\n",
              "      <th>department_name</th>\n",
              "      <th>job_title</th>\n",
              "      <th>store_name</th>\n",
              "      <th>gender_short</th>\n",
              "      <th>gender_full</th>\n",
              "      <th>termreason_desc</th>\n",
              "      <th>termtype_desc</th>\n",
              "      <th>STATUS_YEAR</th>\n",
              "      <th>STATUS</th>\n",
              "      <th>BUSINESS_UNIT</th>\n",
              "    </tr>\n",
              "  </thead>\n",
              "  <tbody>\n",
              "    <tr>\n",
              "      <th>49648</th>\n",
              "      <td>8258</td>\n",
              "      <td>12/1/2015 0:00</td>\n",
              "      <td>5/28/1994</td>\n",
              "      <td>8/19/2013</td>\n",
              "      <td>12/30/2015</td>\n",
              "      <td>21</td>\n",
              "      <td>2</td>\n",
              "      <td>Valemount</td>\n",
              "      <td>Dairy</td>\n",
              "      <td>Dairy Person</td>\n",
              "      <td>34</td>\n",
              "      <td>M</td>\n",
              "      <td>Male</td>\n",
              "      <td>Layoff</td>\n",
              "      <td>Involuntary</td>\n",
              "      <td>2015</td>\n",
              "      <td>TERMINATED</td>\n",
              "      <td>STORES</td>\n",
              "    </tr>\n",
              "    <tr>\n",
              "      <th>49649</th>\n",
              "      <td>8264</td>\n",
              "      <td>8/1/2013 0:00</td>\n",
              "      <td>6/13/1994</td>\n",
              "      <td>8/27/2013</td>\n",
              "      <td>8/30/2013</td>\n",
              "      <td>19</td>\n",
              "      <td>0</td>\n",
              "      <td>Vancouver</td>\n",
              "      <td>Customer Service</td>\n",
              "      <td>Cashier</td>\n",
              "      <td>44</td>\n",
              "      <td>F</td>\n",
              "      <td>Female</td>\n",
              "      <td>Resignaton</td>\n",
              "      <td>Voluntary</td>\n",
              "      <td>2013</td>\n",
              "      <td>TERMINATED</td>\n",
              "      <td>STORES</td>\n",
              "    </tr>\n",
              "    <tr>\n",
              "      <th>49650</th>\n",
              "      <td>8279</td>\n",
              "      <td>12/1/2015 0:00</td>\n",
              "      <td>7/18/1994</td>\n",
              "      <td>9/15/2013</td>\n",
              "      <td>12/30/2015</td>\n",
              "      <td>21</td>\n",
              "      <td>2</td>\n",
              "      <td>White Rock</td>\n",
              "      <td>Customer Service</td>\n",
              "      <td>Cashier</td>\n",
              "      <td>39</td>\n",
              "      <td>F</td>\n",
              "      <td>Female</td>\n",
              "      <td>Layoff</td>\n",
              "      <td>Involuntary</td>\n",
              "      <td>2015</td>\n",
              "      <td>TERMINATED</td>\n",
              "      <td>STORES</td>\n",
              "    </tr>\n",
              "    <tr>\n",
              "      <th>49651</th>\n",
              "      <td>8296</td>\n",
              "      <td>12/1/2013 0:00</td>\n",
              "      <td>9/2/1994</td>\n",
              "      <td>10/9/2013</td>\n",
              "      <td>12/31/2013</td>\n",
              "      <td>19</td>\n",
              "      <td>0</td>\n",
              "      <td>Kelowna</td>\n",
              "      <td>Customer Service</td>\n",
              "      <td>Cashier</td>\n",
              "      <td>16</td>\n",
              "      <td>F</td>\n",
              "      <td>Female</td>\n",
              "      <td>Resignaton</td>\n",
              "      <td>Voluntary</td>\n",
              "      <td>2013</td>\n",
              "      <td>TERMINATED</td>\n",
              "      <td>STORES</td>\n",
              "    </tr>\n",
              "    <tr>\n",
              "      <th>49652</th>\n",
              "      <td>8321</td>\n",
              "      <td>12/1/2014 0:00</td>\n",
              "      <td>11/28/1994</td>\n",
              "      <td>11/24/2013</td>\n",
              "      <td>12/30/2014</td>\n",
              "      <td>20</td>\n",
              "      <td>1</td>\n",
              "      <td>Grand Forks</td>\n",
              "      <td>Customer Service</td>\n",
              "      <td>Cashier</td>\n",
              "      <td>13</td>\n",
              "      <td>F</td>\n",
              "      <td>Female</td>\n",
              "      <td>Layoff</td>\n",
              "      <td>Involuntary</td>\n",
              "      <td>2014</td>\n",
              "      <td>TERMINATED</td>\n",
              "      <td>STORES</td>\n",
              "    </tr>\n",
              "  </tbody>\n",
              "</table>\n",
              "</div>"
            ],
            "text/plain": [
              "       EmployeeID  recorddate_key birthdate_key orighiredate_key  \\\n",
              "49648        8258  12/1/2015 0:00     5/28/1994        8/19/2013   \n",
              "49649        8264   8/1/2013 0:00     6/13/1994        8/27/2013   \n",
              "49650        8279  12/1/2015 0:00     7/18/1994        9/15/2013   \n",
              "49651        8296  12/1/2013 0:00      9/2/1994        10/9/2013   \n",
              "49652        8321  12/1/2014 0:00    11/28/1994       11/24/2013   \n",
              "\n",
              "      terminationdate_key  age  length_of_service    city_name  \\\n",
              "49648          12/30/2015   21                  2    Valemount   \n",
              "49649           8/30/2013   19                  0    Vancouver   \n",
              "49650          12/30/2015   21                  2   White Rock   \n",
              "49651          12/31/2013   19                  0      Kelowna   \n",
              "49652          12/30/2014   20                  1  Grand Forks   \n",
              "\n",
              "        department_name     job_title  store_name gender_short gender_full  \\\n",
              "49648             Dairy  Dairy Person          34            M        Male   \n",
              "49649  Customer Service       Cashier          44            F      Female   \n",
              "49650  Customer Service       Cashier          39            F      Female   \n",
              "49651  Customer Service       Cashier          16            F      Female   \n",
              "49652  Customer Service       Cashier          13            F      Female   \n",
              "\n",
              "      termreason_desc termtype_desc  STATUS_YEAR      STATUS BUSINESS_UNIT  \n",
              "49648          Layoff   Involuntary         2015  TERMINATED        STORES  \n",
              "49649      Resignaton     Voluntary         2013  TERMINATED        STORES  \n",
              "49650          Layoff   Involuntary         2015  TERMINATED        STORES  \n",
              "49651      Resignaton     Voluntary         2013  TERMINATED        STORES  \n",
              "49652          Layoff   Involuntary         2014  TERMINATED        STORES  "
            ]
          },
          "metadata": {
            "tags": []
          },
          "execution_count": 49
        }
      ]
    },
    {
      "cell_type": "markdown",
      "metadata": {
        "id": "xF6HM872n4r_",
        "colab_type": "text"
      },
      "source": [
        "# Accessing the main DataFrame components"
      ]
    },
    {
      "cell_type": "code",
      "metadata": {
        "id": "Mdr1r8Vjn8MW",
        "colab_type": "code",
        "colab": {}
      },
      "source": [
        "columns = df.columns\n",
        "index = df.index\n",
        "data = df.values"
      ],
      "execution_count": 0,
      "outputs": []
    },
    {
      "cell_type": "code",
      "metadata": {
        "id": "ZswvXsbSoC_Z",
        "colab_type": "code",
        "outputId": "6a6b6066-d50b-4c3e-ca09-bae0246fb433",
        "colab": {
          "base_uri": "https://localhost:8080/",
          "height": 122
        }
      },
      "source": [
        "columns"
      ],
      "execution_count": 0,
      "outputs": [
        {
          "output_type": "execute_result",
          "data": {
            "text/plain": [
              "Index(['EmployeeID', 'recorddate_key', 'birthdate_key', 'orighiredate_key',\n",
              "       'terminationdate_key', 'age', 'length_of_service', 'city_name',\n",
              "       'department_name', 'job_title', 'store_name', 'gender_short',\n",
              "       'gender_full', 'termreason_desc', 'termtype_desc', 'STATUS_YEAR',\n",
              "       'STATUS', 'BUSINESS_UNIT'],\n",
              "      dtype='object')"
            ]
          },
          "metadata": {
            "tags": []
          },
          "execution_count": 51
        }
      ]
    },
    {
      "cell_type": "code",
      "metadata": {
        "id": "GLo6QO7BoEmP",
        "colab_type": "code",
        "outputId": "ddf0f9db-401a-47e7-e377-0f3ade524cc6",
        "colab": {
          "base_uri": "https://localhost:8080/",
          "height": 34
        }
      },
      "source": [
        "index"
      ],
      "execution_count": 0,
      "outputs": [
        {
          "output_type": "execute_result",
          "data": {
            "text/plain": [
              "RangeIndex(start=0, stop=49653, step=1)"
            ]
          },
          "metadata": {
            "tags": []
          },
          "execution_count": 52
        }
      ]
    },
    {
      "cell_type": "code",
      "metadata": {
        "id": "DOiXYBceoGPn",
        "colab_type": "code",
        "outputId": "ce9555f7-b6c5-4f88-89e7-79cb6930138a",
        "colab": {
          "base_uri": "https://localhost:8080/",
          "height": 244
        }
      },
      "source": [
        "data"
      ],
      "execution_count": 0,
      "outputs": [
        {
          "output_type": "execute_result",
          "data": {
            "text/plain": [
              "array([[1318, '12/31/2006 0:00', '1/3/1954', ..., 2006, 'ACTIVE',\n",
              "        'HEADOFFICE'],\n",
              "       [1318, '12/31/2007 0:00', '1/3/1954', ..., 2007, 'ACTIVE',\n",
              "        'HEADOFFICE'],\n",
              "       [1318, '12/31/2008 0:00', '1/3/1954', ..., 2008, 'ACTIVE',\n",
              "        'HEADOFFICE'],\n",
              "       ...,\n",
              "       [8279, '12/1/2015 0:00', '7/18/1994', ..., 2015, 'TERMINATED',\n",
              "        'STORES'],\n",
              "       [8296, '12/1/2013 0:00', '9/2/1994', ..., 2013, 'TERMINATED',\n",
              "        'STORES'],\n",
              "       [8321, '12/1/2014 0:00', '11/28/1994', ..., 2014, 'TERMINATED',\n",
              "        'STORES']], dtype=object)"
            ]
          },
          "metadata": {
            "tags": []
          },
          "execution_count": 53
        }
      ]
    },
    {
      "cell_type": "markdown",
      "metadata": {
        "id": "3fec-2AUoPmk",
        "colab_type": "text"
      },
      "source": [
        "# 1. Understanding Data Types"
      ]
    },
    {
      "cell_type": "markdown",
      "metadata": {
        "id": "TxadHP_NtXbK",
        "colab_type": "text"
      },
      "source": [
        "#### 1.A Find Shape of Data Frame"
      ]
    },
    {
      "cell_type": "code",
      "metadata": {
        "id": "ZLGMP4NRpqE5",
        "colab_type": "code",
        "colab": {}
      },
      "source": [
        "# A:"
      ],
      "execution_count": 0,
      "outputs": []
    },
    {
      "cell_type": "markdown",
      "metadata": {
        "id": "oJX-CGXvuvR7",
        "colab_type": "text"
      },
      "source": [
        "#### 1.B Find Data Tyeps of Data Frame"
      ]
    },
    {
      "cell_type": "code",
      "metadata": {
        "id": "9-jcxa4JoUaF",
        "colab_type": "code",
        "colab": {}
      },
      "source": [
        "# A:"
      ],
      "execution_count": 0,
      "outputs": []
    },
    {
      "cell_type": "markdown",
      "metadata": {
        "id": "F84ZM4giu3uX",
        "colab_type": "text"
      },
      "source": [
        "#### 1.C Find Number of Data Types in a Data Frame\n",
        "\n",
        "\n",
        "\n",
        "```\n",
        "Expected Output:\n",
        "int64      5\n",
        "object    13\n",
        "dtype: int64\n",
        "```\n",
        "\n"
      ]
    },
    {
      "cell_type": "markdown",
      "metadata": {
        "id": "1yyNZ1HIvGVp",
        "colab_type": "text"
      },
      "source": [
        "#### 1.D Use Info\n",
        "\n",
        "Use info and explore difference."
      ]
    },
    {
      "cell_type": "code",
      "metadata": {
        "id": "br45XLTVoXsv",
        "colab_type": "code",
        "colab": {}
      },
      "source": [
        "# A:"
      ],
      "execution_count": 0,
      "outputs": []
    },
    {
      "cell_type": "markdown",
      "metadata": {
        "id": "aFVlzHmwolwU",
        "colab_type": "text"
      },
      "source": [
        "# 2. Selecting Column in Data Frame"
      ]
    },
    {
      "cell_type": "markdown",
      "metadata": {
        "id": "MHa557TsvdoP",
        "colab_type": "text"
      },
      "source": [
        "#### 2.A Check Values of Job_Title column"
      ]
    },
    {
      "cell_type": "code",
      "metadata": {
        "id": "qAv8nIvnopMN",
        "colab_type": "code",
        "colab": {}
      },
      "source": [
        "# A:"
      ],
      "execution_count": 0,
      "outputs": []
    },
    {
      "cell_type": "markdown",
      "metadata": {
        "id": "ZGrf6tiRvn8F",
        "colab_type": "text"
      },
      "source": [
        "#### 2.B Find How Many Rows Are in Each Job Title\n",
        "\n",
        "\n",
        "\n",
        "```\n",
        "# Expected Output\n",
        "Meat Cutter                        9984\n",
        "Dairy Person                       8590\n",
        "Produce Clerk                      8237\n",
        ".\n",
        ".\n",
        ".\n",
        "```\n",
        "\n"
      ]
    },
    {
      "cell_type": "code",
      "metadata": {
        "id": "J1oPyGUxpYv4",
        "colab_type": "code",
        "colab": {}
      },
      "source": [
        "# A:"
      ],
      "execution_count": 0,
      "outputs": []
    },
    {
      "cell_type": "markdown",
      "metadata": {
        "id": "iGAFnYElwAnu",
        "colab_type": "text"
      },
      "source": [
        "#### 2.C [BONUS] Write A Function to Row Count\n",
        "\n",
        "\n",
        "\n",
        "```\n",
        "def row_count(column_name):\n",
        "    number_of_rows = 0\n",
        "    return number_of_rows\n",
        "```\n",
        "\n"
      ]
    },
    {
      "cell_type": "markdown",
      "metadata": {
        "id": "unrVvLl1wjxg",
        "colab_type": "text"
      },
      "source": [
        "#### 2.D Describe 'Age'\n",
        "\n",
        "Find count,  mean,  std, min, max of column 'age'"
      ]
    },
    {
      "cell_type": "code",
      "metadata": {
        "id": "DGk18B54p1Lm",
        "colab_type": "code",
        "colab": {}
      },
      "source": [
        "# A:"
      ],
      "execution_count": 0,
      "outputs": []
    },
    {
      "cell_type": "markdown",
      "metadata": {
        "id": "WStkVqlZw6ZP",
        "colab_type": "text"
      },
      "source": [
        "##### 2.E [BONUS] Describe 'All Numeric Columns of Data Frame\n",
        "\n",
        "Find count, mean, std, min, max of of all columns of dataframe"
      ]
    },
    {
      "cell_type": "code",
      "metadata": {
        "id": "zatP7XTYdsoZ",
        "colab_type": "code",
        "colab": {}
      },
      "source": [
        "# A:"
      ],
      "execution_count": 0,
      "outputs": []
    },
    {
      "cell_type": "markdown",
      "metadata": {
        "id": "5QjPfOf5sE_T",
        "colab_type": "text"
      },
      "source": [
        "# 3. Making The Index Meaningful"
      ]
    },
    {
      "cell_type": "code",
      "metadata": {
        "id": "-cFrJykvdsob",
        "colab_type": "code",
        "colab": {}
      },
      "source": [
        "# A:"
      ],
      "execution_count": 0,
      "outputs": []
    },
    {
      "cell_type": "markdown",
      "metadata": {
        "id": "gvP4e-sMxUa_",
        "colab_type": "text"
      },
      "source": [
        "#### 3.A Find A Specifc Row Using Index"
      ]
    },
    {
      "cell_type": "code",
      "metadata": {
        "id": "vpaI3UKndsof",
        "colab_type": "code",
        "colab": {}
      },
      "source": [
        "# A:"
      ],
      "execution_count": 0,
      "outputs": []
    },
    {
      "cell_type": "markdown",
      "metadata": {
        "id": "PYE7wF1xxtUr",
        "colab_type": "text"
      },
      "source": [
        "#### 3.B Sort Data Frame using Index"
      ]
    },
    {
      "cell_type": "code",
      "metadata": {
        "id": "qjhgMeUmdsoj",
        "colab_type": "code",
        "colab": {}
      },
      "source": [
        "# A:"
      ],
      "execution_count": 0,
      "outputs": []
    },
    {
      "cell_type": "markdown",
      "metadata": {
        "id": "9ElW7kYEyJpc",
        "colab_type": "text"
      },
      "source": [
        "#### 3.C [BONUS] Sort Data Frame using Age"
      ]
    },
    {
      "cell_type": "code",
      "metadata": {
        "id": "dhI0huT13sQc",
        "colab_type": "code",
        "colab": {}
      },
      "source": [
        "# A:"
      ],
      "execution_count": 0,
      "outputs": []
    },
    {
      "cell_type": "markdown",
      "metadata": {
        "id": "VvveQ2cAySpi",
        "colab_type": "text"
      },
      "source": [
        "#### 3.D [BONUS] Using Sample Select Any Row "
      ]
    },
    {
      "cell_type": "code",
      "metadata": {
        "id": "4nVrO5Pwdsom",
        "colab_type": "code",
        "colab": {}
      },
      "source": [
        "# A:"
      ],
      "execution_count": 0,
      "outputs": []
    },
    {
      "cell_type": "markdown",
      "metadata": {
        "id": "5XeLtowlsaYk",
        "colab_type": "text"
      },
      "source": [
        "# 4. Query Data Frame\n",
        "\n",
        "#### 4.A Find Rows Where Job_Title is CEO"
      ]
    },
    {
      "cell_type": "code",
      "metadata": {
        "id": "11b0ZSKcsi3Q",
        "colab_type": "code",
        "colab": {}
      },
      "source": [
        "# A:"
      ],
      "execution_count": 0,
      "outputs": []
    },
    {
      "cell_type": "markdown",
      "metadata": {
        "id": "qhN9k6KOylrt",
        "colab_type": "text"
      },
      "source": [
        "#### 4.B Group By Age"
      ]
    },
    {
      "cell_type": "code",
      "metadata": {
        "id": "Ia56-Vi9dsoo",
        "colab_type": "code",
        "colab": {}
      },
      "source": [
        "# A:"
      ],
      "execution_count": 0,
      "outputs": []
    },
    {
      "cell_type": "markdown",
      "metadata": {
        "id": "L5yQi1wHyuAh",
        "colab_type": "text"
      },
      "source": [
        "# 5. Visualization\n",
        "\n",
        "#### 5.A Plot Histogram of Age "
      ]
    },
    {
      "cell_type": "code",
      "metadata": {
        "id": "YcUyfH1tdsor",
        "colab_type": "code",
        "colab": {}
      },
      "source": [
        "# A:"
      ],
      "execution_count": 0,
      "outputs": []
    },
    {
      "cell_type": "markdown",
      "metadata": {
        "id": "f5ev6X-Uy-CP",
        "colab_type": "text"
      },
      "source": [
        "#### 5.B BoxPlot of Age"
      ]
    },
    {
      "cell_type": "code",
      "metadata": {
        "id": "ukRrrJFmdsow",
        "colab_type": "code",
        "colab": {}
      },
      "source": [
        "# A:"
      ],
      "execution_count": 0,
      "outputs": []
    },
    {
      "cell_type": "markdown",
      "metadata": {
        "id": "VdvlCmOczGs1",
        "colab_type": "text"
      },
      "source": [
        "#### 5.C Scatterplot of age and length_of_service"
      ]
    },
    {
      "cell_type": "code",
      "metadata": {
        "id": "OZBpp-O5dsoz",
        "colab_type": "code",
        "colab": {}
      },
      "source": [
        "# A:"
      ],
      "execution_count": 0,
      "outputs": []
    },
    {
      "cell_type": "markdown",
      "metadata": {
        "id": "dUnd6QD5zXVa",
        "colab_type": "text"
      },
      "source": [
        "#### 5.D Plot Histogram of store_name"
      ]
    },
    {
      "cell_type": "code",
      "metadata": {
        "id": "RxbuXYSwdso1",
        "colab_type": "code",
        "colab": {}
      },
      "source": [
        "# A:"
      ],
      "execution_count": 0,
      "outputs": []
    },
    {
      "cell_type": "markdown",
      "metadata": {
        "id": "O-Mn86xZzjC9",
        "colab_type": "text"
      },
      "source": [
        "#### 5.E Print Statistical Summary of Age"
      ]
    },
    {
      "cell_type": "code",
      "metadata": {
        "id": "gMeCpCUzdso4",
        "colab_type": "code",
        "colab": {}
      },
      "source": [
        "# A:"
      ],
      "execution_count": 0,
      "outputs": []
    }
  ]
}