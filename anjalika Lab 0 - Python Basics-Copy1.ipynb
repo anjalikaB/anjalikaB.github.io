{
 "cells": [
  {
   "cell_type": "markdown",
   "metadata": {
    "colab_type": "text",
    "id": "R5bsUWF_BZL-"
   },
   "source": [
    "<img src=\"https://i.imgur.com/1WaY7aA.png\" style=\"float: left;\">\n",
    "\n"
   ]
  },
  {
   "cell_type": "markdown",
   "metadata": {
    "ExecuteTime": {
     "end_time": "2019-09-09T07:36:13.345009Z",
     "start_time": "2019-09-09T07:36:13.342000Z"
    },
    "colab_type": "text",
    "id": "vrzrmwXlBZMD"
   },
   "source": [
    "## Review of python types, lists, and dictionaries"
   ]
  },
  {
   "cell_type": "code",
   "execution_count": 2,
   "metadata": {
    "colab": {
     "base_uri": "https://localhost:8080/",
     "height": 34
    },
    "colab_type": "code",
    "executionInfo": {
     "elapsed": 2038,
     "status": "ok",
     "timestamp": 1568111493600,
     "user": {
      "displayName": "Triceranuts",
      "photoUrl": "https://lh3.googleusercontent.com/a-/AAuE7mCEGgiofhx-_ANr2qn6lxRrIjWR9EOk9k2sjlOA2w=s64",
      "userId": "11679083634312845737"
     },
     "user_tz": -600
    },
    "id": "oF2zJ-9KBZMH",
    "outputId": "de056441-73f3-46b3-e11b-b14cede0fd4b"
   },
   "outputs": [
    {
     "name": "stdout",
     "output_type": "stream",
     "text": [
      "['Anjalika', 'Smitha', 'Yana', 'Jane', ' Emily', 'Aris', 'Antony', 'Joana', 'gladys', 'jercy']\n"
     ]
    }
   ],
   "source": [
    "# Enter student names here:\n",
    "student_names = ['Anjalika', 'Smitha', 'Yana', 'Jane',' Emily','Aris','Antony', 'Joana', 'gladys','jercy']\n",
    "print(student_names)\n"
   ]
  },
  {
   "cell_type": "markdown",
   "metadata": {
    "colab_type": "text",
    "id": "xwOdrA-oBZMU"
   },
   "source": [
    "---\n",
    "\n",
    "### 1. What are the types of the following variables?"
   ]
  },
  {
   "cell_type": "code",
   "execution_count": 9,
   "metadata": {
    "colab": {},
    "colab_type": "code",
    "id": "2a7qV3QiBZMX"
   },
   "outputs": [
    {
     "name": "stdout",
     "output_type": "stream",
     "text": [
      "<class 'int'>\n",
      "<class 'float'>\n",
      "<class 'list'>\n",
      "<class 'dict'>\n",
      "<class 'tuple'>\n"
     ]
    }
   ],
   "source": [
    "a = 1\n",
    "b = 2.6\n",
    "c = [1,2,3,5,6]\n",
    "d = {'kiefer':'katovich', 'dave':'yerrington'}\n",
    "e = ('one', 'two', 'three')\n",
    "f = {1:{'key':'value'}, 2:{'key2':'value2'}}\n",
    "g = True\n",
    "h = False\n",
    "i = 'integer'\n",
    "print(type(a))\n",
    "print(type(b))\n",
    "print(type(c))\n",
    "print(type(d))\n",
    "print(type((e)))       "
   ]
  },
  {
   "cell_type": "code",
   "execution_count": 27,
   "metadata": {
    "ExecuteTime": {
     "end_time": "2019-09-09T07:39:52.567662Z",
     "start_time": "2019-09-09T07:39:52.564350Z"
    },
    "colab": {
     "base_uri": "https://localhost:8080/",
     "height": 170
    },
    "colab_type": "code",
    "executionInfo": {
     "elapsed": 768,
     "status": "ok",
     "timestamp": 1568113121649,
     "user": {
      "displayName": "Triceranuts",
      "photoUrl": "https://lh3.googleusercontent.com/a-/AAuE7mCEGgiofhx-_ANr2qn6lxRrIjWR9EOk9k2sjlOA2w=s64",
      "userId": "11679083634312845737"
     },
     "user_tz": -600
    },
    "id": "dINtf9egBZMi",
    "outputId": "9e719bb2-9e87-46ee-abb8-a3ddfa9f0c7f"
   },
   "outputs": [
    {
     "name": "stdout",
     "output_type": "stream",
     "text": [
      "a is <class 'int'>\n",
      "b is<class 'float'>\n",
      "c is<class 'list'>\n",
      "d is<class 'dict'>\n",
      "e is<class 'tuple'>\n",
      "f is<class 'dict'>\n",
      "g is<class 'bool'>\n",
      "h is<class 'bool'>\n",
      "i is<class 'str'>\n"
     ]
    }
   ],
   "source": [
    "a = 1\n",
    "\n"
   ]
  },
  {
   "cell_type": "markdown",
   "metadata": {
    "colab_type": "text",
    "id": "zqSKNzDwBZMo"
   },
   "source": [
    "---\n",
    "\n",
    "### 2. Print the `student_names` list."
   ]
  },
  {
   "cell_type": "code",
   "execution_count": 14,
   "metadata": {
    "ExecuteTime": {
     "end_time": "2019-09-09T07:40:52.475611Z",
     "start_time": "2019-09-09T07:40:52.471683Z"
    },
    "colab": {
     "base_uri": "https://localhost:8080/",
     "height": 34
    },
    "colab_type": "code",
    "executionInfo": {
     "elapsed": 709,
     "status": "ok",
     "timestamp": 1568113227749,
     "user": {
      "displayName": "Triceranuts",
      "photoUrl": "https://lh3.googleusercontent.com/a-/AAuE7mCEGgiofhx-_ANr2qn6lxRrIjWR9EOk9k2sjlOA2w=s64",
      "userId": "11679083634312845737"
     },
     "user_tz": -600
    },
    "id": "nDo3oTICBZMq",
    "outputId": "512dcf68-63a4-4744-8a40-e806d2e7c39d"
   },
   "outputs": [
    {
     "name": "stdout",
     "output_type": "stream",
     "text": [
      "['Anjalika', 'Smitha', 'Yana', 'Jane', ' Emily', 'Aris', 'Antony', 'Joana', 'gladys', 'jercy']\n"
     ]
    }
   ],
   "source": [
    "student_names = ['Anjalika', 'Smitha', 'Yana', 'Jane',' Emily','Aris','Antony', 'Joana', 'gladys','jercy']\n",
    "print(student_names)"
   ]
  },
  {
   "cell_type": "markdown",
   "metadata": {
    "colab_type": "text",
    "id": "MUr1k3pgBZMv"
   },
   "source": [
    "---\n",
    "\n",
    "### 3. Print the names of the first and last students in the list."
   ]
  },
  {
   "cell_type": "code",
   "execution_count": 18,
   "metadata": {
    "ExecuteTime": {
     "end_time": "2019-09-09T07:40:58.043809Z",
     "start_time": "2019-09-09T07:40:58.040177Z"
    },
    "colab": {
     "base_uri": "https://localhost:8080/",
     "height": 34
    },
    "colab_type": "code",
    "executionInfo": {
     "elapsed": 720,
     "status": "ok",
     "timestamp": 1568113437226,
     "user": {
      "displayName": "Triceranuts",
      "photoUrl": "https://lh3.googleusercontent.com/a-/AAuE7mCEGgiofhx-_ANr2qn6lxRrIjWR9EOk9k2sjlOA2w=s64",
      "userId": "11679083634312845737"
     },
     "user_tz": -600
    },
    "id": "HxWV7yb6BZMx",
    "outputId": "2059eb47-367c-4859-b8ae-c6d75d92a60e"
   },
   "outputs": [
    {
     "name": "stdout",
     "output_type": "stream",
     "text": [
      "Anjalika and jercy\n"
     ]
    }
   ],
   "source": [
    "print((student_names[0]  + \" and \" +  student_names[-1]))"
   ]
  },
  {
   "cell_type": "markdown",
   "metadata": {
    "colab_type": "text",
    "id": "BN4EZOQzBZM1"
   },
   "source": [
    "---\n",
    "\n",
    "### 4. Print the first five names in the student list."
   ]
  },
  {
   "cell_type": "code",
   "execution_count": 22,
   "metadata": {
    "ExecuteTime": {
     "end_time": "2019-09-09T07:41:02.895488Z",
     "start_time": "2019-09-09T07:41:02.892277Z"
    },
    "colab": {
     "base_uri": "https://localhost:8080/",
     "height": 34
    },
    "colab_type": "code",
    "executionInfo": {
     "elapsed": 724,
     "status": "ok",
     "timestamp": 1568113512481,
     "user": {
      "displayName": "Triceranuts",
      "photoUrl": "https://lh3.googleusercontent.com/a-/AAuE7mCEGgiofhx-_ANr2qn6lxRrIjWR9EOk9k2sjlOA2w=s64",
      "userId": "11679083634312845737"
     },
     "user_tz": -600
    },
    "id": "HgWsH_E_BZM3",
    "outputId": "490029ca-9414-409f-cc0c-c3a6f3cd54bb"
   },
   "outputs": [
    {
     "name": "stdout",
     "output_type": "stream",
     "text": [
      "['Anjalika', 'Smitha', 'Yana', 'Jane', ' Emily']\n"
     ]
    }
   ],
   "source": [
    "print(student_names[0:5])"
   ]
  },
  {
   "cell_type": "markdown",
   "metadata": {
    "colab_type": "text",
    "id": "XvAVxpzKBZM-"
   },
   "source": [
    "---\n",
    "\n",
    "### 5. Combine the 9th and 10th student names into a single string, separated by a space.  Assign that string to a variable."
   ]
  },
  {
   "cell_type": "code",
   "execution_count": 27,
   "metadata": {
    "ExecuteTime": {
     "end_time": "2019-09-09T07:41:10.332927Z",
     "start_time": "2019-09-09T07:41:10.328937Z"
    },
    "colab": {
     "base_uri": "https://localhost:8080/",
     "height": 34
    },
    "colab_type": "code",
    "executionInfo": {
     "elapsed": 718,
     "status": "ok",
     "timestamp": 1568113804706,
     "user": {
      "displayName": "Triceranuts",
      "photoUrl": "https://lh3.googleusercontent.com/a-/AAuE7mCEGgiofhx-_ANr2qn6lxRrIjWR9EOk9k2sjlOA2w=s64",
      "userId": "11679083634312845737"
     },
     "user_tz": -600
    },
    "id": "l71pMha0BZNA",
    "outputId": "a5d61756-3cc1-491f-bd0f-28f71ed6d4bc"
   },
   "outputs": [
    {
     "name": "stdout",
     "output_type": "stream",
     "text": [
      "gladys jercy\n"
     ]
    }
   ],
   "source": [
    "print((student_names[8] + \" \" + student_names[9]))"
   ]
  },
  {
   "cell_type": "markdown",
   "metadata": {
    "colab_type": "text",
    "id": "XTevUO-VBZND"
   },
   "source": [
    "---\n",
    "\n",
    "### 6. Append an animal to the list of animals."
   ]
  },
  {
   "cell_type": "code",
   "execution_count": 38,
   "metadata": {
    "colab": {},
    "colab_type": "code",
    "id": "GNddt0mABZNF"
   },
   "outputs": [],
   "source": [
    "animals = ['duck', 'rat', 'boar', 'slug', 'mammoth', 'gazelle']\n"
   ]
  },
  {
   "cell_type": "code",
   "execution_count": 41,
   "metadata": {
    "ExecuteTime": {
     "end_time": "2019-09-09T07:41:17.910676Z",
     "start_time": "2019-09-09T07:41:17.906721Z"
    },
    "colab": {
     "base_uri": "https://localhost:8080/",
     "height": 34
    },
    "colab_type": "code",
    "executionInfo": {
     "elapsed": 731,
     "status": "ok",
     "timestamp": 1568114303419,
     "user": {
      "displayName": "Triceranuts",
      "photoUrl": "https://lh3.googleusercontent.com/a-/AAuE7mCEGgiofhx-_ANr2qn6lxRrIjWR9EOk9k2sjlOA2w=s64",
      "userId": "11679083634312845737"
     },
     "user_tz": -600
    },
    "id": "NCnPBWvpBZNI",
    "outputId": "7d1f2923-e1a7-439b-f1b7-12d411715263"
   },
   "outputs": [
    {
     "name": "stdout",
     "output_type": "stream",
     "text": [
      "['duck', 'rat', 'boar', 'slug', 'mammoth', 'gazelle', 'monkey', 'monkey']\n"
     ]
    }
   ],
   "source": [
    "animals.append('monkey')\n",
    "print (animals)"
   ]
  },
  {
   "cell_type": "markdown",
   "metadata": {
    "colab_type": "text",
    "id": "tYTwuwt2BZNN"
   },
   "source": [
    "---\n",
    "\n",
    "### 7. Print the length of the animals list."
   ]
  },
  {
   "cell_type": "code",
   "execution_count": 91,
   "metadata": {
    "ExecuteTime": {
     "end_time": "2019-09-09T07:41:24.637830Z",
     "start_time": "2019-09-09T07:41:24.633817Z"
    },
    "colab": {
     "base_uri": "https://localhost:8080/",
     "height": 34
    },
    "colab_type": "code",
    "executionInfo": {
     "elapsed": 716,
     "status": "ok",
     "timestamp": 1568114495335,
     "user": {
      "displayName": "Triceranuts",
      "photoUrl": "https://lh3.googleusercontent.com/a-/AAuE7mCEGgiofhx-_ANr2qn6lxRrIjWR9EOk9k2sjlOA2w=s64",
      "userId": "11679083634312845737"
     },
     "user_tz": -600
    },
    "id": "AP0jiiPoBZNN",
    "outputId": "dd0767f1-48a4-45c7-b545-ca654957817f"
   },
   "outputs": [
    {
     "name": "stdout",
     "output_type": "stream",
     "text": [
      "7\n"
     ]
    }
   ],
   "source": [
    "animals = ['duck', 'rat', 'boar', 'slug', 'mammoth', 'gazelle', 'kiefer']\n",
    "print(len(animals))"
   ]
  },
  {
   "cell_type": "markdown",
   "metadata": {
    "colab_type": "text",
    "id": "9RmCb64gBZNR"
   },
   "source": [
    "---\n",
    "\n",
    "### 8. Divide the length of the fifth animal by the second."
   ]
  },
  {
   "cell_type": "code",
   "execution_count": 57,
   "metadata": {
    "ExecuteTime": {
     "end_time": "2019-09-09T07:41:34.176849Z",
     "start_time": "2019-09-09T07:41:34.172860Z"
    },
    "colab": {
     "base_uri": "https://localhost:8080/",
     "height": 34
    },
    "colab_type": "code",
    "executionInfo": {
     "elapsed": 1552,
     "status": "ok",
     "timestamp": 1568115203852,
     "user": {
      "displayName": "Triceranuts",
      "photoUrl": "https://lh3.googleusercontent.com/a-/AAuE7mCEGgiofhx-_ANr2qn6lxRrIjWR9EOk9k2sjlOA2w=s64",
      "userId": "11679083634312845737"
     },
     "user_tz": -600
    },
    "id": "qIo1czBDBZNS",
    "outputId": "e8999f4c-8097-4d2d-8b73-392d88ac9cd2"
   },
   "outputs": [
    {
     "name": "stdout",
     "output_type": "stream",
     "text": [
      "2.3333333333333335\n",
      "<class 'float'>\n"
     ]
    }
   ],
   "source": [
    "a = (len(animals[4])/len(animals[1]))\n",
    "print(a)\n",
    "print(type(a))"
   ]
  },
  {
   "cell_type": "markdown",
   "metadata": {
    "colab_type": "text",
    "id": "f-yc8IIEBZNV"
   },
   "source": [
    "---\n",
    "\n",
    "### 9. Perform the same division, but ensure output is a decimal number."
   ]
  },
  {
   "cell_type": "code",
   "execution_count": 63,
   "metadata": {},
   "outputs": [
    {
     "ename": "AttributeError",
     "evalue": "type object 'decimal.Decimal' has no attribute 'decimal'",
     "output_type": "error",
     "traceback": [
      "\u001b[1;31m---------------------------------------------------------------------------\u001b[0m",
      "\u001b[1;31mAttributeError\u001b[0m                            Traceback (most recent call last)",
      "\u001b[1;32m<ipython-input-63-c92c6ed436f6>\u001b[0m in \u001b[0;36m<module>\u001b[1;34m\u001b[0m\n\u001b[0;32m      1\u001b[0m \u001b[1;32mfrom\u001b[0m \u001b[0mdecimal\u001b[0m \u001b[1;32mimport\u001b[0m \u001b[0mDecimal\u001b[0m\u001b[1;33m\u001b[0m\u001b[1;33m\u001b[0m\u001b[0m\n\u001b[0;32m      2\u001b[0m \u001b[1;33m\u001b[0m\u001b[0m\n\u001b[1;32m----> 3\u001b[1;33m \u001b[0md\u001b[0m \u001b[1;33m=\u001b[0m \u001b[0mDecimal\u001b[0m\u001b[1;33m.\u001b[0m\u001b[0mdecimal\u001b[0m\u001b[1;33m(\u001b[0m\u001b[0ma\u001b[0m\u001b[1;33m)\u001b[0m\u001b[1;33m\u001b[0m\u001b[1;33m\u001b[0m\u001b[0m\n\u001b[0m\u001b[0;32m      4\u001b[0m \u001b[0mprint\u001b[0m\u001b[1;33m(\u001b[0m\u001b[0md\u001b[0m\u001b[1;33m)\u001b[0m\u001b[1;33m\u001b[0m\u001b[1;33m\u001b[0m\u001b[0m\n",
      "\u001b[1;31mAttributeError\u001b[0m: type object 'decimal.Decimal' has no attribute 'decimal'"
     ]
    }
   ],
   "source": [
    "from decimal import Decimal\n",
    "a =  ()\n",
    "d = Decimal.decimal(a)\n",
    "print(d)\n"
   ]
  },
  {
   "cell_type": "code",
   "execution_count": 57,
   "metadata": {
    "ExecuteTime": {
     "end_time": "2019-09-09T07:41:34.176849Z",
     "start_time": "2019-09-09T07:41:34.172860Z"
    },
    "colab": {
     "base_uri": "https://localhost:8080/",
     "height": 34
    },
    "colab_type": "code",
    "executionInfo": {
     "elapsed": 1552,
     "status": "ok",
     "timestamp": 1568115203852,
     "user": {
      "displayName": "Triceranuts",
      "photoUrl": "https://lh3.googleusercontent.com/a-/AAuE7mCEGgiofhx-_ANr2qn6lxRrIjWR9EOk9k2sjlOA2w=s64",
      "userId": "11679083634312845737"
     },
     "user_tz": -600
    },
    "id": "qIo1czBDBZNS",
    "outputId": "e8999f4c-8097-4d2d-8b73-392d88ac9cd2"
   },
   "outputs": [
    {
     "name": "stdout",
     "output_type": "stream",
     "text": [
      "2.3333333333333335\n",
      "<class 'float'>\n"
     ]
    }
   ],
   "source": [
    "\n",
    "a = (len(animals[4])/len(animals[1]))\n",
    "print(a)\n",
    "print(type(a))"
   ]
  },
  {
   "cell_type": "code",
   "execution_count": 57,
   "metadata": {
    "ExecuteTime": {
     "end_time": "2019-09-09T07:41:34.176849Z",
     "start_time": "2019-09-09T07:41:34.172860Z"
    },
    "colab": {
     "base_uri": "https://localhost:8080/",
     "height": 34
    },
    "colab_type": "code",
    "executionInfo": {
     "elapsed": 1552,
     "status": "ok",
     "timestamp": 1568115203852,
     "user": {
      "displayName": "Triceranuts",
      "photoUrl": "https://lh3.googleusercontent.com/a-/AAuE7mCEGgiofhx-_ANr2qn6lxRrIjWR9EOk9k2sjlOA2w=s64",
      "userId": "11679083634312845737"
     },
     "user_tz": -600
    },
    "id": "qIo1czBDBZNS",
    "outputId": "e8999f4c-8097-4d2d-8b73-392d88ac9cd2"
   },
   "outputs": [
    {
     "name": "stdout",
     "output_type": "stream",
     "text": [
      "2.3333333333333335\n",
      "<class 'float'>\n"
     ]
    }
   ],
   "source": [
    "a = (len(animals[4])/len(animals[1]))\n",
    "\n",
    "print(a)\n",
    "print(type(a))"
   ]
  },
  {
   "cell_type": "code",
   "execution_count": 66,
   "metadata": {},
   "outputs": [
    {
     "ename": "NameError",
     "evalue": "name 'decimal' is not defined",
     "output_type": "error",
     "traceback": [
      "\u001b[1;31m---------------------------------------------------------------------------\u001b[0m",
      "\u001b[1;31mNameError\u001b[0m                                 Traceback (most recent call last)",
      "\u001b[1;32m<ipython-input-66-e97357bab8ca>\u001b[0m in \u001b[0;36m<module>\u001b[1;34m\u001b[0m\n\u001b[0;32m      1\u001b[0m \u001b[1;32mfrom\u001b[0m \u001b[0mdecimal\u001b[0m \u001b[1;32mimport\u001b[0m \u001b[0mDecimal\u001b[0m\u001b[1;33m\u001b[0m\u001b[1;33m\u001b[0m\u001b[0m\n\u001b[0;32m      2\u001b[0m \u001b[0ma\u001b[0m \u001b[1;33m=\u001b[0m  \u001b[1;33m(\u001b[0m\u001b[1;34m'2.3333333333333335'\u001b[0m\u001b[1;33m)\u001b[0m\u001b[1;33m\u001b[0m\u001b[1;33m\u001b[0m\u001b[0m\n\u001b[1;32m----> 3\u001b[1;33m \u001b[0md\u001b[0m \u001b[1;33m=\u001b[0m \u001b[0mdecimal\u001b[0m\u001b[1;33m.\u001b[0m\u001b[0mDecimal\u001b[0m\u001b[1;33m(\u001b[0m\u001b[0mstr\u001b[0m\u001b[1;33m(\u001b[0m\u001b[0ma\u001b[0m\u001b[1;33m)\u001b[0m\u001b[1;33m)\u001b[0m\u001b[1;33m\u001b[0m\u001b[1;33m\u001b[0m\u001b[0m\n\u001b[0m\u001b[0;32m      4\u001b[0m \u001b[0mprint\u001b[0m\u001b[1;33m(\u001b[0m\u001b[0md\u001b[0m\u001b[1;33m)\u001b[0m\u001b[1;33m\u001b[0m\u001b[1;33m\u001b[0m\u001b[0m\n",
      "\u001b[1;31mNameError\u001b[0m: name 'decimal' is not defined"
     ]
    }
   ],
   "source": [
    "from decimal import Decimal\n",
    "a =  ('2.3333333333333335')\n",
    "d = decimal.Decimal(str(a))\n",
    "print(d)\n"
   ]
  },
  {
   "cell_type": "markdown",
   "metadata": {
    "colab_type": "text",
    "id": "0C3LebCOBZNY"
   },
   "source": [
    "---\n",
    "\n",
    "### 10. Show two different ways to combine the animals list and the numbers list."
   ]
  },
  {
   "cell_type": "code",
   "execution_count": 80,
   "metadata": {
    "colab": {},
    "colab_type": "code",
    "id": "p6cLJXpqBZNZ"
   },
   "outputs": [
    {
     "name": "stdout",
     "output_type": "stream",
     "text": [
      "['duck', 'rat', 'boar', 'slug', 'mammoth', 'gazelle', 'monkey', 'monkey', 0.0, 0.1, 1.0, 10.0, 100.0, 1000.0, 0.0, 0.1, 1.0, 10.0, 100.0, 1000.0, 0.0, 0.1, 1.0, 10.0, 100.0, 1000.0, 0.0, 0.1, 1.0, 10.0, 100.0, 1000.0]\n"
     ]
    }
   ],
   "source": [
    "numbers = [0.0, 0.1, 1.0, 10.0, 100.0, 1000.0]\n",
    "combo = animals + numbers\n",
    "print(combo)"
   ]
  },
  {
   "cell_type": "code",
   "execution_count": 88,
   "metadata": {
    "ExecuteTime": {
     "end_time": "2019-09-09T07:41:55.612343Z",
     "start_time": "2019-09-09T07:41:55.608354Z"
    },
    "colab": {
     "base_uri": "https://localhost:8080/",
     "height": 34
    },
    "colab_type": "code",
    "executionInfo": {
     "elapsed": 905,
     "status": "ok",
     "timestamp": 1568115966014,
     "user": {
      "displayName": "Triceranuts",
      "photoUrl": "https://lh3.googleusercontent.com/a-/AAuE7mCEGgiofhx-_ANr2qn6lxRrIjWR9EOk9k2sjlOA2w=s64",
      "userId": "11679083634312845737"
     },
     "user_tz": -600
    },
    "id": "kDD7-GmdBZNb",
    "outputId": "68cb446e-e5be-4806-be90-f48e0ab1f724"
   },
   "outputs": [
    {
     "name": "stdout",
     "output_type": "stream",
     "text": [
      "extended animals:['duck', 'rat', 'boar', 'slug', 'mammoth', 'gazelle', 'monkey', 'monkey', 0.0, 0.1, 1.0, 10.0, 100.0, 1000.0, 0.0, 0.1, 1.0, 10.0, 100.0, 1000.0, 0.0, 0.1, 1.0, 10.0, 100.0, 1000.0, 0.0, 0.1, 1.0, 10.0, 100.0, 1000.0, 0.0, 0.1, 1.0, 10.0, 100.0, 1000.0, 0.0, 0.1, 1.0, 10.0, 100.0, 1000.0]\n"
     ]
    }
   ],
   "source": [
    "animals.extend(numbers)\n",
    "print(('extended animals:') + str(animals))\n"
   ]
  },
  {
   "cell_type": "markdown",
   "metadata": {
    "colab_type": "text",
    "id": "Qds43JfNBZNg"
   },
   "source": [
    "---\n",
    "\n",
    "### 11. Remove 'kiefer' from the list and insert your own in its place."
   ]
  },
  {
   "cell_type": "code",
   "execution_count": 92,
   "metadata": {
    "colab": {},
    "colab_type": "code",
    "id": "58HB3ocDBZNg"
   },
   "outputs": [
    {
     "name": "stdout",
     "output_type": "stream",
     "text": [
      "['duck', 'rat', 'boar', 'slug', 'mammoth', 'gazelle']\n"
     ]
    }
   ],
   "source": [
    "animals.remove('kiefer')\n",
    "print(animals)"
   ]
  },
  {
   "cell_type": "markdown",
   "metadata": {
    "colab_type": "text",
    "id": "IGo68Jk2BZNs"
   },
   "source": [
    "---\n",
    "\n",
    "### 12. Sort the following list."
   ]
  },
  {
   "cell_type": "code",
   "execution_count": 0,
   "metadata": {
    "colab": {},
    "colab_type": "code",
    "id": "KZOnVsAWBZNs"
   },
   "outputs": [],
   "source": [
    "mix = [['billy', 'sam'], {'key':'value'}, 12.999, 12, 'flower', 'a', (1, 2, 3)]"
   ]
  },
  {
   "cell_type": "code",
   "execution_count": 99,
   "metadata": {
    "ExecuteTime": {
     "end_time": "2019-09-09T07:42:50.546039Z",
     "start_time": "2019-09-09T07:42:50.542051Z"
    },
    "colab": {
     "base_uri": "https://localhost:8080/",
     "height": 34
    },
    "colab_type": "code",
    "executionInfo": {
     "elapsed": 724,
     "status": "ok",
     "timestamp": 1568118075229,
     "user": {
      "displayName": "Triceranuts",
      "photoUrl": "https://lh3.googleusercontent.com/a-/AAuE7mCEGgiofhx-_ANr2qn6lxRrIjWR9EOk9k2sjlOA2w=s64",
      "userId": "11679083634312845737"
     },
     "user_tz": -600
    },
    "id": "KvzbShz3BZNu",
    "outputId": "988ed94b-c28e-4a14-80cb-4d110f1e6b05"
   },
   "outputs": [
    {
     "name": "stdout",
     "output_type": "stream",
     "text": [
      "<built-in method sort of list object at 0x7f483c7c8c08>\n"
     ]
    }
   ],
   "source": [
    "mix = [['billy', 'sam'], {'key':'value'}, 12.999, 12, 'flower', 'a', (1, 2, 3)]\n",
    "print(mix.sort)"
   ]
  },
  {
   "cell_type": "markdown",
   "metadata": {
    "colab_type": "text",
    "id": "Hnz49ZHLBZNw"
   },
   "source": [
    "---\n",
    "\n",
    "### 13. Find the index of `'a'` in the list."
   ]
  },
  {
   "cell_type": "code",
   "execution_count": 0,
   "metadata": {
    "ExecuteTime": {
     "end_time": "2019-09-09T07:43:07.011110Z",
     "start_time": "2019-09-09T07:43:07.008103Z"
    },
    "colab": {},
    "colab_type": "code",
    "id": "zWk61rqJBZNx"
   },
   "outputs": [],
   "source": [
    "# ANSWER"
   ]
  },
  {
   "cell_type": "markdown",
   "metadata": {
    "colab_type": "text",
    "id": "GVW-f6ruBZNz"
   },
   "source": [
    "---\n",
    "\n",
    "### 14. Reverse the `mix` list."
   ]
  },
  {
   "cell_type": "code",
   "execution_count": 0,
   "metadata": {
    "ExecuteTime": {
     "end_time": "2019-09-09T07:43:11.560767Z",
     "start_time": "2019-09-09T07:43:11.556778Z"
    },
    "colab": {},
    "colab_type": "code",
    "id": "im17ScJQBZN0"
   },
   "outputs": [],
   "source": [
    "# ANSWER"
   ]
  },
  {
   "cell_type": "markdown",
   "metadata": {
    "colab_type": "text",
    "id": "rgMP5k5dBZN2"
   },
   "source": [
    "---\n",
    "\n",
    "### 15. Remove the last element of `mix`,  and assign it to a variable."
   ]
  },
  {
   "cell_type": "code",
   "execution_count": 0,
   "metadata": {
    "ExecuteTime": {
     "end_time": "2019-09-09T07:43:19.364818Z",
     "start_time": "2019-09-09T07:43:19.361631Z"
    },
    "colab": {},
    "colab_type": "code",
    "id": "ZnvmVIeMBZN3"
   },
   "outputs": [],
   "source": [
    "# ANSWER"
   ]
  },
  {
   "cell_type": "markdown",
   "metadata": {
    "colab_type": "text",
    "id": "1nLNzxl2BZN5"
   },
   "source": [
    "---\n",
    "\n",
    "### 16. Count the number of times `0` appears in the following list."
   ]
  },
  {
   "cell_type": "code",
   "execution_count": 0,
   "metadata": {
    "colab": {},
    "colab_type": "code",
    "collapsed": true,
    "id": "U3y_FhO7BZN5"
   },
   "outputs": [],
   "source": [
    "binary = [0,1,1,0,1,0,1,1,1,1,0,0,1,0,0,1,0,1,1,0,0,1,1,0,1,1,0,0,0,1,1,1,0,1,0,1]"
   ]
  },
  {
   "cell_type": "code",
   "execution_count": 2,
   "metadata": {
    "ExecuteTime": {
     "end_time": "2019-09-09T07:43:28.591484Z",
     "start_time": "2019-09-09T07:43:28.587703Z"
    },
    "colab": {},
    "colab_type": "code",
    "id": "RE7Z3iCOBZN8"
   },
   "outputs": [
    {
     "ename": "NameError",
     "evalue": "name 'np' is not defined",
     "output_type": "error",
     "traceback": [
      "\u001b[1;31m---------------------------------------------------------------------------\u001b[0m",
      "\u001b[1;31mNameError\u001b[0m                                 Traceback (most recent call last)",
      "\u001b[1;32m<ipython-input-2-ce3504b8317a>\u001b[0m in \u001b[0;36m<module>\u001b[1;34m\u001b[0m\n\u001b[1;32m----> 1\u001b[1;33m \u001b[0mnp\u001b[0m\u001b[1;33m.\u001b[0m\u001b[0mcount\u001b[0m\u001b[1;33m(\u001b[0m\u001b[0mbinary\u001b[0m \u001b[1;33m=\u001b[0m \u001b[1;36m0\u001b[0m\u001b[1;33m)\u001b[0m\u001b[1;33m\u001b[0m\u001b[1;33m\u001b[0m\u001b[0m\n\u001b[0m\u001b[0;32m      2\u001b[0m \u001b[0mprint\u001b[0m\u001b[1;33m(\u001b[0m\u001b[0mcount\u001b[0m\u001b[1;33m)\u001b[0m\u001b[1;33m\u001b[0m\u001b[1;33m\u001b[0m\u001b[0m\n",
      "\u001b[1;31mNameError\u001b[0m: name 'np' is not defined"
     ]
    }
   ],
   "source": [
    "\n",
    "np.count(binary = 0)\n",
    "print(count)"
   ]
  },
  {
   "cell_type": "markdown",
   "metadata": {
    "colab_type": "text",
    "id": "NGFz_pDABZOB"
   },
   "source": [
    "---\n",
    "\n",
    "### 17. Count the number of times `1` appears in the following list."
   ]
  },
  {
   "cell_type": "code",
   "execution_count": 0,
   "metadata": {
    "ExecuteTime": {
     "end_time": "2019-09-09T07:46:48.523375Z",
     "start_time": "2019-09-09T07:46:48.519388Z"
    },
    "colab": {},
    "colab_type": "code",
    "id": "7ng868ofBZOB"
   },
   "outputs": [],
   "source": [
    "# ANSWER"
   ]
  },
  {
   "cell_type": "code",
   "execution_count": 0,
   "metadata": {
    "colab": {},
    "colab_type": "code",
    "id": "XD6NHe2_BZOD"
   },
   "outputs": [],
   "source": []
  },
  {
   "cell_type": "markdown",
   "metadata": {
    "colab_type": "text",
    "id": "91gNqYNhBZOE"
   },
   "source": [
    "---\n",
    "\n",
    "### 18. Create an SF (San Francisco) zipcode dictionary.\n",
    "\n",
    "With the following key:value pairs:\n",
    "\n",
    "    'sunset':94122\n",
    "    'presidio':94129\n",
    "    'soma':94105\n",
    "    'marina':94123"
   ]
  },
  {
   "cell_type": "code",
   "execution_count": 0,
   "metadata": {
    "ExecuteTime": {
     "end_time": "2019-09-09T07:43:49.549751Z",
     "start_time": "2019-09-09T07:43:49.544765Z"
    },
    "colab": {},
    "colab_type": "code",
    "id": "t0s0YaHMBZOF"
   },
   "outputs": [],
   "source": [
    "# ANSWER"
   ]
  },
  {
   "cell_type": "markdown",
   "metadata": {
    "colab_type": "text",
    "id": "BY5yXBEcBZOH"
   },
   "source": [
    "---\n",
    "\n",
    "### 19. Get the zipcode for `'soma'`, and assign it to a variable."
   ]
  },
  {
   "cell_type": "code",
   "execution_count": 0,
   "metadata": {
    "ExecuteTime": {
     "end_time": "2019-09-09T07:43:54.302587Z",
     "start_time": "2019-09-09T07:43:54.298597Z"
    },
    "colab": {},
    "colab_type": "code",
    "id": "O3wKSve2BZOH"
   },
   "outputs": [],
   "source": [
    "# ANSWER"
   ]
  },
  {
   "cell_type": "markdown",
   "metadata": {
    "colab_type": "text",
    "id": "QLB6c0TBBZOJ"
   },
   "source": [
    "---\n",
    "\n",
    "### 20. Get the keys out of the dictionary."
   ]
  },
  {
   "cell_type": "code",
   "execution_count": 0,
   "metadata": {
    "ExecuteTime": {
     "end_time": "2019-09-09T07:44:00.235123Z",
     "start_time": "2019-09-09T07:44:00.231134Z"
    },
    "colab": {},
    "colab_type": "code",
    "id": "W7wgL9KABZOL"
   },
   "outputs": [],
   "source": [
    "# ANSWER"
   ]
  },
  {
   "cell_type": "markdown",
   "metadata": {
    "colab_type": "text",
    "id": "6FOGeecsBZON"
   },
   "source": [
    "---\n",
    "\n",
    "### 21. Get the key:value pairs out of the dictionary as a list of tuples."
   ]
  },
  {
   "cell_type": "code",
   "execution_count": 0,
   "metadata": {
    "ExecuteTime": {
     "end_time": "2019-09-09T07:44:07.941854Z",
     "start_time": "2019-09-09T07:44:07.937866Z"
    },
    "colab": {},
    "colab_type": "code",
    "id": "bxUdenYsBZOO"
   },
   "outputs": [],
   "source": [
    "# ANSWER"
   ]
  },
  {
   "cell_type": "markdown",
   "metadata": {
    "colab_type": "text",
    "id": "Qk4o82BqBZOS"
   },
   "source": [
    "---\n",
    "\n",
    "### 22. Add the castro district to the dictionary with zipcode 94114."
   ]
  },
  {
   "cell_type": "code",
   "execution_count": 0,
   "metadata": {
    "ExecuteTime": {
     "end_time": "2019-09-09T07:44:11.459218Z",
     "start_time": "2019-09-09T07:44:11.456003Z"
    },
    "colab": {},
    "colab_type": "code",
    "id": "HxfVmrwMBZOS"
   },
   "outputs": [],
   "source": [
    "# ANSWER"
   ]
  },
  {
   "cell_type": "markdown",
   "metadata": {
    "colab_type": "text",
    "id": "DCzwhwgJBZOU"
   },
   "source": [
    "---\n",
    "\n",
    "### 23. Combine the following smaller dictionary of districts with the SF zip codedictionary."
   ]
  },
  {
   "cell_type": "code",
   "execution_count": 0,
   "metadata": {
    "colab": {},
    "colab_type": "code",
    "collapsed": true,
    "id": "ylJ8nuVvBZOV"
   },
   "outputs": [],
   "source": [
    "small = {'outer_richmond':94121, 'dogpatch':94107}"
   ]
  },
  {
   "cell_type": "code",
   "execution_count": 0,
   "metadata": {
    "ExecuteTime": {
     "end_time": "2019-09-09T07:44:25.052113Z",
     "start_time": "2019-09-09T07:44:25.048131Z"
    },
    "colab": {},
    "colab_type": "code",
    "id": "CF_7sd94BZOX"
   },
   "outputs": [],
   "source": [
    "# ASNWER"
   ]
  },
  {
   "cell_type": "markdown",
   "metadata": {
    "colab_type": "text",
    "id": "P1IwjH79BZOb"
   },
   "source": [
    "---\n",
    "\n",
    "### 24. Remove the '`sunset`' zipcode, and assign it to a variable."
   ]
  },
  {
   "cell_type": "code",
   "execution_count": 0,
   "metadata": {
    "ExecuteTime": {
     "end_time": "2019-09-09T07:44:30.475525Z",
     "start_time": "2019-09-09T07:44:30.471539Z"
    },
    "colab": {},
    "colab_type": "code",
    "id": "wSeS_8jsBZOc"
   },
   "outputs": [],
   "source": [
    "# ANSWER"
   ]
  },
  {
   "cell_type": "markdown",
   "metadata": {
    "colab_type": "text",
    "id": "Dtf3200sBZOg"
   },
   "source": [
    "---\n",
    "\n",
    "### 25. Check if the 'dogpatch' is in the dictionary."
   ]
  },
  {
   "cell_type": "code",
   "execution_count": 0,
   "metadata": {
    "ExecuteTime": {
     "end_time": "2019-09-09T07:44:34.957695Z",
     "start_time": "2019-09-09T07:44:34.954587Z"
    },
    "colab": {},
    "colab_type": "code",
    "id": "MLTatSCiBZOi"
   },
   "outputs": [],
   "source": [
    "# ANSWER"
   ]
  }
 ],
 "metadata": {
  "colab": {
   "collapsed_sections": [
    "Hnz49ZHLBZNw",
    "GVW-f6ruBZNz",
    "rgMP5k5dBZN2",
    "1nLNzxl2BZN5",
    "NGFz_pDABZOB",
    "91gNqYNhBZOE",
    "BY5yXBEcBZOH",
    "QLB6c0TBBZOJ",
    "6FOGeecsBZON",
    "Qk4o82BqBZOS",
    "DCzwhwgJBZOU",
    "P1IwjH79BZOb",
    "Dtf3200sBZOg"
   ],
   "name": "Copy of Copy of Lab 0 - Python Basics.ipynb",
   "provenance": [
    {
     "file_id": "1bH3eXn7Pgs3ASLyBISlWZjFojJlKdMEF",
     "timestamp": 1568118410183
    },
    {
     "file_id": "1xE7bKY1KPgvxDudQD0D56l3wL82C7mGa",
     "timestamp": 1568110773102
    }
   ],
   "version": "0.3.2"
  },
  "kernelspec": {
   "display_name": "Python 3",
   "language": "python",
   "name": "python3"
  },
  "language_info": {
   "codemirror_mode": {
    "name": "ipython",
    "version": 3
   },
   "file_extension": ".py",
   "mimetype": "text/x-python",
   "name": "python",
   "nbconvert_exporter": "python",
   "pygments_lexer": "ipython3",
   "version": "3.7.3"
  },
  "varInspector": {
   "cols": {
    "lenName": 16,
    "lenType": 16,
    "lenVar": 40
   },
   "kernels_config": {
    "python": {
     "delete_cmd_postfix": "",
     "delete_cmd_prefix": "del ",
     "library": "var_list.py",
     "varRefreshCmd": "print(var_dic_list())"
    },
    "r": {
     "delete_cmd_postfix": ") ",
     "delete_cmd_prefix": "rm(",
     "library": "var_list.r",
     "varRefreshCmd": "cat(var_dic_list()) "
    }
   },
   "types_to_exclude": [
    "module",
    "function",
    "builtin_function_or_method",
    "instance",
    "_Feature"
   ],
   "window_display": false
  }
 },
 "nbformat": 4,
 "nbformat_minor": 1
}
